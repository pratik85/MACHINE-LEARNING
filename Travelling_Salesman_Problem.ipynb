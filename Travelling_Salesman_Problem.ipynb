{
 "cells": [
  {
   "cell_type": "markdown",
   "metadata": {},
   "source": [
    "# Import all the necessary libraries"
   ]
  },
  {
   "cell_type": "code",
   "execution_count": 33,
   "metadata": {},
   "outputs": [],
   "source": [
    "import numpy as np\n",
    "import matplotlib.pyplot as plt\n",
    "import warnings\n",
    "warnings.filterwarnings('ignore')"
   ]
  },
  {
   "cell_type": "markdown",
   "metadata": {},
   "source": [
    "# Read the distance matrix from the file"
   ]
  },
  {
   "cell_type": "code",
   "execution_count": 35,
   "metadata": {},
   "outputs": [
    {
     "name": "stdout",
     "output_type": "stream",
     "text": [
      "[[  0.  83.  93. 129. 133. 139. 151. 169. 135. 114. 110.  98.  99.  95.\n",
      "   81. 152. 159. 181. 172. 185. 147. 157. 185. 220. 127. 181.]\n",
      " [ 83.   0.  40.  53.  62.  64.  91. 116.  93.  84.  95.  98.  89.  68.\n",
      "   67. 127. 156. 175. 152. 165. 160. 180. 223. 268. 179. 197.]\n",
      " [ 93.  40.   0.  42.  42.  49.  59.  81.  54.  44.  58.  64.  54.  31.\n",
      "   36.  86. 117. 135. 112. 125. 124. 147. 193. 241. 157. 161.]\n",
      " [129.  53.  42.   0.  11.  11.  46.  72.  65.  70.  88. 100.  89.  66.\n",
      "   76. 102. 142. 156. 127. 139. 155. 180. 228. 278. 197. 190.]\n",
      " [133.  62.  42.  11.   0.   9.  35.  61.  55.  62.  82.  95.  84.  62.\n",
      "   74.  93. 133. 146. 117. 128. 148. 173. 222. 272. 194. 182.]\n",
      " [139.  64.  49.  11.   9.   0.  39.  65.  63.  71.  90. 103.  92.  71.\n",
      "   82. 100. 141. 153. 124. 135. 156. 181. 230. 280. 202. 190.]\n",
      " [151.  91.  59.  46.  35.  39.   0.  26.  34.  52.  71.  88.  77.  63.\n",
      "   78.  66. 110. 119.  88.  98. 130. 156. 206. 257. 188. 160.]\n",
      " [169. 116.  81.  72.  61.  65.  26.   0.  37.  59.  75.  92.  83.  76.\n",
      "   91.  54.  98. 103.  70.  78. 122. 148. 198. 250. 188. 148.]\n",
      " [135.  93.  54.  65.  55.  63.  34.  37.   0.  22.  39.  56.  47.  40.\n",
      "   55.  37.  78.  91.  62.  74.  96. 122. 172. 223. 155. 128.]\n",
      " [114.  84.  44.  70.  62.  71.  52.  59.  22.   0.  20.  36.  26.  20.\n",
      "   34.  43.  74.  91.  68.  82.  86. 111. 160. 210. 136. 121.]\n",
      " [110.  95.  58.  88.  82.  90.  71.  75.  39.  20.   0.  18.  11.  27.\n",
      "   32.  42.  61.  80.  64.  77.  68.  92. 140. 190. 116. 103.]\n",
      " [ 98.  98.  64. 100.  95. 103.  88.  92.  56.  36.  18.   0.  11.  34.\n",
      "   31.  56.  63.  85.  75.  87.  62.  83. 129. 178. 100.  99.]\n",
      " [ 99.  89.  54.  89.  84.  92.  77.  83.  47.  26.  11.  11.   0.  23.\n",
      "   24.  53.  68.  89.  74.  87.  71.  93. 140. 189. 111. 107.]\n",
      " [ 95.  68.  31.  66.  62.  71.  63.  76.  40.  20.  27.  34.  23.   0.\n",
      "   15.  62.  87. 106.  87. 100.  93. 116. 163. 212. 132. 130.]\n",
      " [ 81.  67.  36.  76.  74.  82.  78.  91.  55.  34.  32.  31.  24.  15.\n",
      "    0.  73.  92. 112.  96. 109.  93. 113. 158. 205. 122. 130.]\n",
      " [152. 127.  86. 102.  93. 100.  66.  54.  37.  43.  42.  56.  53.  62.\n",
      "   73.   0.  44.  54.  26.  39.  68.  94. 144. 196. 139.  95.]\n",
      " [159. 156. 117. 142. 133. 141. 110.  98.  78.  74.  61.  63.  68.  87.\n",
      "   92.  44.   0.  22.  34.  38.  30.  53. 102. 154. 109.  51.]\n",
      " [181. 175. 135. 156. 146. 153. 119. 103.  91.  91.  80.  85.  89. 106.\n",
      "  112.  54.  22.   0.  33.  29.  46.  64. 107. 157. 125.  51.]\n",
      " [172. 152. 112. 127. 117. 124.  88.  70.  62.  68.  64.  75.  74.  87.\n",
      "   96.  26.  34.  33.   0.  13.  63.  87. 135. 186. 141.  81.]\n",
      " [185. 165. 125. 139. 128. 135.  98.  78.  74.  82.  77.  87.  87. 100.\n",
      "  109.  39.  38.  29.  13.   0.  68.  90. 136. 186. 148.  79.]\n",
      " [147. 160. 124. 155. 148. 156. 130. 122.  96.  86.  68.  62.  71.  93.\n",
      "   93.  68.  30.  46.  63.  68.   0.  26.  77. 128.  80.  37.]\n",
      " [157. 180. 147. 180. 173. 181. 156. 148. 122. 111.  92.  83.  93. 116.\n",
      "  113.  94.  53.  64.  87.  90.  26.   0.  50. 102.  65.  27.]\n",
      " [185. 223. 193. 228. 222. 230. 206. 198. 172. 160. 140. 129. 140. 163.\n",
      "  158. 144. 102. 107. 135. 136.  77.  50.   0.  51.  64.  58.]\n",
      " [220. 268. 241. 278. 272. 280. 257. 250. 223. 210. 190. 178. 189. 212.\n",
      "  205. 196. 154. 157. 186. 186. 128. 102.  51.   0.  93. 107.]\n",
      " [127. 179. 157. 197. 194. 202. 188. 188. 155. 136. 116. 100. 111. 132.\n",
      "  122. 139. 109. 125. 141. 148.  80.  65.  64.  93.   0.  90.]\n",
      " [181. 197. 161. 190. 182. 190. 160. 148. 128. 121. 103.  99. 107. 130.\n",
      "  130.  95.  51.  51.  81.  79.  37.  27.  58. 107.  90.   0.]]\n",
      "True\n"
     ]
    }
   ],
   "source": [
    "dist_matr = np.genfromtxt(\"dist_matr.csv\",delimiter=\",\")\n",
    "print(dist_matr)\n",
    "print((dist_matr==dist_matr.T).all())"
   ]
  },
  {
   "cell_type": "markdown",
   "metadata": {},
   "source": [
    "# Function for Swapping two elements in x"
   ]
  },
  {
   "cell_type": "code",
   "execution_count": 36,
   "metadata": {},
   "outputs": [],
   "source": [
    "def swap(x):\n",
    "    x_len = len(x)\n",
    "    sampled_idx = np.random.choice(len(x),2,replace=False)\n",
    "    x[sampled_idx[0]],x[sampled_idx[1]] = x[sampled_idx[1]],x[sampled_idx[0]]\n",
    "    return(x)"
   ]
  },
  {
   "cell_type": "markdown",
   "metadata": {},
   "source": [
    "# Define the distance function"
   ]
  },
  {
   "cell_type": "code",
   "execution_count": 37,
   "metadata": {},
   "outputs": [],
   "source": [
    "def dist_func(a,dist_matrix):\n",
    "    i = 0\n",
    "    total_distance = 0\n",
    "    for j in range(len(a)):\n",
    "        total_distance += dist_matrix[a[j]][i]\n",
    "        #print(i,a[j])\n",
    "        i=a[j]\n",
    "    total_distance +=dist_matrix[i][0]\n",
    "    return(total_distance)"
   ]
  },
  {
   "cell_type": "markdown",
   "metadata": {},
   "source": [
    "# Randomly re-initialize points"
   ]
  },
  {
   "cell_type": "code",
   "execution_count": 38,
   "metadata": {},
   "outputs": [],
   "source": [
    "def rrI(arr,popSize):\n",
    "    re_init_pop = [] \n",
    "    for i in range(popSize):\n",
    "        new_memb = np.random.permutation(arr)\n",
    "        re_init_pop.append(new_memb)\n",
    "    re_init_pop = np.matrix(re_init_pop)\n",
    "    return(re_init_pop)"
   ]
  },
  {
   "cell_type": "markdown",
   "metadata": {},
   "source": [
    "# Write code to obtain optimum path"
   ]
  },
  {
   "cell_type": "code",
   "execution_count": 39,
   "metadata": {},
   "outputs": [],
   "source": [
    "def Optimum_path(path,dist_matrix,popSize,childNum,rrI_pop,maxIter):\n",
    "    ## Create the initial population\n",
    "    population = []\n",
    "    for i in range(popSize):\n",
    "        random_path = np.random.permutation(path)\n",
    "        population.append(random_path)\n",
    "    population = np.matrix(population)\n",
    "    \n",
    "    for t in range(maxIter):\n",
    "        y_arr = []\n",
    "        \n",
    "        for i in range(population.shape[0]): ## Number of rows in same as popSize\n",
    "            a = np.ravel(population[i,:])\n",
    "            y = dist_func(a,dist_matrix)\n",
    "            y_arr.append(y)\n",
    "            \n",
    "        u_arr = [y_arr[i] - min(y_arr) for i in range(len(y_arr))]\n",
    "        fit_score = [u_arr[i]/sum(u_arr) for i in range(len(u_arr))]\n",
    "        #print(fit_score)\n",
    "        child_num = [int(fit_score[i]*childNum) for i in range(len(y_arr))]\n",
    "        child_arr = []\n",
    "        for i in range(len(y_arr)):\n",
    "            x_i = np.ravel(population[i,:])\n",
    "            for j in range(child_num[i]):\n",
    "                c = swap(x_i)\n",
    "                child_arr.append(c)\n",
    "        #print(population)\n",
    "        child_mat = np.matrix(child_arr)\n",
    "        re_init_pop = rrI(path,rrI_pop)\n",
    "#         print(re_init_pop.shape)\n",
    "#         print(child_mat.shape)\n",
    "#         print(population.shape)\n",
    "        total_pop = np.vstack((child_mat,population,re_init_pop))\n",
    "\n",
    "        fitness_arr = []\n",
    "        \n",
    "        for i in range(total_pop.shape[0]):\n",
    "            b = np.ravel(total_pop[i,:])\n",
    "            d1 = dist_func(b,dist_matrix)\n",
    "            fitness_arr.append(d1)\n",
    "        \n",
    "        fitness_arr = np.array(fitness_arr)\n",
    "        min_idx = np.argsort(fitness_arr)\n",
    "        \n",
    "        useful_idx = min_idx[:popSize]\n",
    "        useful_dist = fitness_arr[useful_idx]\n",
    "     \n",
    "        min_dist_idx = useful_idx[0]\n",
    "        best_memb = total_pop[min_dist_idx,:]\n",
    "        best_dist = useful_dist[0] \n",
    "        \n",
    "        print(\"Best path obtained till now is {}\".format(best_memb))\n",
    "        print(\"Best distance obtained till now is {}\".format(best_dist))\n",
    "        popList = []\n",
    "        \n",
    "        for i in range(len(useful_idx)):\n",
    "            uidx = useful_idx[i]\n",
    "            popMember = total_pop[uidx,:]\n",
    "            popMember = np.ravel(popMember)\n",
    "            popList.append(popMember)\n",
    "        population = np.matrix(popList)"
   ]
  },
  {
   "cell_type": "code",
   "execution_count": 40,
   "metadata": {},
   "outputs": [
    {
     "name": "stdout",
     "output_type": "stream",
     "text": [
      "[ 1  2  3  4  5  6  7  8  9 10 11 12 13 14 15 16 17 18 19 20 21 22 23 24\n",
      " 25]\n",
      "Best path obtained till now is [[17 19 25 20 22 18 10 23 16  7  4 13 11 15  5  3  9 14 12  8  2  6  1 21\n",
      "  24]]\n",
      "Best distance obtained till now is 2119.0\n",
      "Best path obtained till now is [[21  8  5  4  9  6 12 17 11  2  3  1 14 19 15 23 24 22 20 25 18 10 16  7\n",
      "  13]]\n",
      "Best distance obtained till now is 2032.0\n",
      "Best path obtained till now is [[13 18 24 23 25 22 17 14  9 12  4  3  7 19 16  5  8 11 15  6 10 20 21  2\n",
      "   1]]\n",
      "Best distance obtained till now is 1960.0\n",
      "Best path obtained till now is [[13 18 24 23 25 22 17 14  9 12  4  3  7 19 16  5  8 11 15  6 10 20 21  2\n",
      "   1]]\n",
      "Best distance obtained till now is 1960.0\n",
      "Best path obtained till now is [[13 18 24 23 25 22 17 14  9 12  4  3  7 19 16  5  8 11 15  6 10 20 21  2\n",
      "   1]]\n",
      "Best distance obtained till now is 1960.0\n",
      "Best path obtained till now is [[13 18 24 23 25 22 17 14  9 12  4  3  7 19 16  5  8 11 15  6 10 20 21  2\n",
      "   1]]\n",
      "Best distance obtained till now is 1960.0\n",
      "Best path obtained till now is [[13 18 24 23 25 22 17 14  9 12  4  3  7 19 16  5  8 11 15  6 10 20 21  2\n",
      "   1]]\n",
      "Best distance obtained till now is 1960.0\n",
      "Best path obtained till now is [[13 23 24 22 17  7 15 19 10 14  8 18 25 21 16 20  2  5  4  3 12  9 11  1\n",
      "   6]]\n",
      "Best distance obtained till now is 1868.0\n",
      "Best path obtained till now is [[20 16 24 17 25 23 22 21 13  2  3 14 18 19  5  8  7 11 10 12  1  9 15  6\n",
      "   4]]\n",
      "Best distance obtained till now is 1850.0\n",
      "Best path obtained till now is [[23 24 12 10  8  6 13  1 11  2  9  4  3  5 15  7 19 16 18 21 25 22 17 20\n",
      "  14]]\n",
      "Best distance obtained till now is 1732.0\n",
      "Best path obtained till now is [[23 24 12 10  8  6 13  1 11  2  9  4  3  5 15  7 19 16 18 21 25 22 17 20\n",
      "  14]]\n",
      "Best distance obtained till now is 1732.0\n",
      "Best path obtained till now is [[23 24 12 10  8  6 13  1 11  2  9  4  3  5 15  7 19 16 18 21 25 22 17 20\n",
      "  14]]\n",
      "Best distance obtained till now is 1732.0\n",
      "Best path obtained till now is [[23 24 12 10  8  6 13  1 11  2  9  4  3  5 15  7 19 16 18 21 25 22 17 20\n",
      "  14]]\n",
      "Best distance obtained till now is 1732.0\n",
      "Best path obtained till now is [[23 24 12 10  8  6 13  1 11  2  9  4  3  5 15  7 19 16 18 21 25 22 17 20\n",
      "  14]]\n",
      "Best distance obtained till now is 1732.0\n",
      "Best path obtained till now is [[16 15 19 17 25 23 22 21 12  3  2 14  1  6  4  5  7 13 10  8  9 20 18 24\n",
      "  11]]\n",
      "Best distance obtained till now is 1709.0\n",
      "Best path obtained till now is [[16 15 19 17 25 23 22 21 12  3  2 14  1  6  4  5  7 13 10  8  9 20 18 24\n",
      "  11]]\n",
      "Best distance obtained till now is 1709.0\n",
      "Best path obtained till now is [[16 15 19 17 25 23 22 21 12  3  2 14  1  6  4  5  7 13 10  8  9 20 18 24\n",
      "  11]]\n",
      "Best distance obtained till now is 1709.0\n",
      "Best path obtained till now is [[16 15 19 17 25 23 22 21 12  3  2 14  1  6  4  5  7 13 10  8  9 20 18 24\n",
      "  11]]\n",
      "Best distance obtained till now is 1709.0\n",
      "Best path obtained till now is [[16 15 19 17 25 23 22 21 12  3  2 14  1  6  4  5  7 13 10  8  9 20 18 24\n",
      "  11]]\n",
      "Best distance obtained till now is 1709.0\n",
      "Best path obtained till now is [[16 15 19 17 25 23 22 21 12  3  2 14  1  6  4  5  7 13 10  8  9 20 18 24\n",
      "  11]]\n",
      "Best distance obtained till now is 1709.0\n"
     ]
    }
   ],
   "source": [
    "path = np.arange(1,26,1)\n",
    "print(path)\n",
    "Optimum_path(path,dist_matr,100,500,200,20)"
   ]
  },
  {
   "cell_type": "markdown",
   "metadata": {},
   "source": [
    "# Correct answer for this problem and the minimum distance"
   ]
  },
  {
   "cell_type": "code",
   "execution_count": 41,
   "metadata": {},
   "outputs": [
    {
     "name": "stdout",
     "output_type": "stream",
     "text": [
      "The minimum distance path is:\n",
      "0->24->23->22->25->21->20->16->17->19->18->15->10->11->12->14->13->9->8->7->6->4->5->3->2->1->0\n",
      "Minimum possible distance is: 937.0\n"
     ]
    },
    {
     "data": {
      "image/png": "[encoded data removed]",
      "text/plain": [
       "<Figure size 432x288 with 1 Axes>"
      ]
     },
     "metadata": {},
     "output_type": "display_data"
    }
   ],
   "source": [
    "ans = np.array([24,23,22,25,21,20,16,17,19,18,15,10,11,12,14,13,9,8,7,6,4,5,3,2\n",
    "  ,1])\n",
    "print(\"The minimum distance path is:\")\n",
    "print(str(0)+\"->\",end=\"\")\n",
    "for i in range(len(ans)):\n",
    "    print(str(ans[i])+\"->\",end = \"\")\n",
    "print(0)\n",
    "print(\"Minimum possible distance is: {}\".format(dist_func(ans,dist_matr)))\n",
    "\n",
    "\n",
    "from sklearn.manifold import MDS #Multi dimensional scaling\n",
    "model = MDS(n_components=2, dissimilarity='precomputed', random_state=1)\n",
    "out = model.fit_transform(dist_matr)\n",
    "n = np.arange(26)\n",
    "x = out[:, 0]\n",
    "y = out[:, 1]\n",
    "fig, ax = plt.subplots()\n",
    "ax.scatter(x,y)\n",
    "ax.arrow(x[0],y[0],x[ans[0]]-x[0],y[ans[0]]-y[0])\n",
    "for i, txt in enumerate(n):\n",
    "    if(i<24):\n",
    "        ax.arrow(x[ans[i]],y[ans[i]],x[ans[i+1]]-x[ans[i]],y[ans[i+1]]-y[ans[i]])\n",
    "    ax.annotate(txt, (x[i], y[i]))"
   ]
  },
  {
   "cell_type": "code",
   "execution_count": null,
   "metadata": {},
   "outputs": [],
   "source": []
  }
 ],
 "metadata": {
  "kernelspec": {
   "display_name": "Python 3",
   "language": "python",
   "name": "python3"
  },
  "language_info": {
   "codemirror_mode": {
    "name": "ipython",
    "version": 3
   },
   "file_extension": ".py",
   "mimetype": "text/x-python",
   "name": "python",
   "nbconvert_exporter": "python",
   "pygments_lexer": "ipython3",
   "version": "3.7.3"
  }
 },
 "nbformat": 4,
 "nbformat_minor": 4
}
